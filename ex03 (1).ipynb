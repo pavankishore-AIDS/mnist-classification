{
 "cells": [
  {
   "cell_type": "code",
   "execution_count": 1,
   "id": "1d87e310",
   "metadata": {},
   "outputs": [],
   "source": [
    "import pandas as pd\n",
    "import numpy as np\n",
    "\n",
    "import tensorflow as tf\n",
    "from tensorflow import keras\n",
    "from tensorflow.keras import layers\n",
    "from tensorflow.keras import utils\n",
    "from tensorflow.keras.datasets import mnist\n",
    "from tensorflow.keras.preprocessing import image\n",
    "\n",
    "import matplotlib.pyplot as plt\n",
    "from sklearn.metrics import classification_report,confusion_matrix"
   ]
  },
  {
   "cell_type": "code",
   "execution_count": 2,
   "id": "4f98435b",
   "metadata": {},
   "outputs": [
    {
     "name": "stdout",
     "output_type": "stream",
     "text": [
      "Downloading data from https://storage.googleapis.com/tensorflow/tf-keras-datasets/mnist.npz\n",
      "11490434/11490434 [==============================] - 375s 33us/step\n"
     ]
    }
   ],
   "source": [
    "(X_train, y_train), (X_test, y_test) = mnist.load_data()"
   ]
  },
  {
   "cell_type": "code",
   "execution_count": 3,
   "id": "3eabd995",
   "metadata": {},
   "outputs": [
    {
     "data": {
      "text/plain": [
       "(60000, 28, 28)"
      ]
     },
     "execution_count": 3,
     "metadata": {},
     "output_type": "execute_result"
    }
   ],
   "source": [
    "X_train.shape"
   ]
  },
  {
   "cell_type": "code",
   "execution_count": 4,
   "id": "85e95ad4",
   "metadata": {},
   "outputs": [
    {
     "data": {
      "text/plain": [
       "(10000, 28, 28)"
      ]
     },
     "execution_count": 4,
     "metadata": {},
     "output_type": "execute_result"
    }
   ],
   "source": [
    "X_test.shape"
   ]
  },
  {
   "cell_type": "code",
   "execution_count": 6,
   "id": "77d40307",
   "metadata": {},
   "outputs": [
    {
     "data": {
      "text/plain": [
       "(28, 28)"
      ]
     },
     "execution_count": 6,
     "metadata": {},
     "output_type": "execute_result"
    }
   ],
   "source": [
    "single_image= X_train[0]\n",
    "single_image.shape"
   ]
  },
  {
   "cell_type": "code",
   "execution_count": 7,
   "id": "1f3c1052",
   "metadata": {},
   "outputs": [
    {
     "data": {
      "text/plain": [
       "<matplotlib.image.AxesImage at 0x1d660d790d0>"
      ]
     },
     "execution_count": 7,
     "metadata": {},
     "output_type": "execute_result"
    },
    {
     "data": {
      "image/png": "[encoded data removed]",
      "text/plain": [
       "<Figure size 640x480 with 1 Axes>"
      ]
     },
     "metadata": {},
     "output_type": "display_data"
    }
   ],
   "source": [
    "plt.imshow(single_image,cmap='gray')"
   ]
  },
  {
   "cell_type": "code",
   "execution_count": 8,
   "id": "0ab9866e",
   "metadata": {},
   "outputs": [
    {
     "data": {
      "text/plain": [
       "(60000,)"
      ]
     },
     "execution_count": 8,
     "metadata": {},
     "output_type": "execute_result"
    }
   ],
   "source": [
    "y_train.shape"
   ]
  },
  {
   "cell_type": "code",
   "execution_count": 9,
   "id": "c622100f",
   "metadata": {},
   "outputs": [
    {
     "name": "stdout",
     "output_type": "stream",
     "text": [
      "0\n",
      "255\n"
     ]
    }
   ],
   "source": [
    "#checking the grayscale value range of the images\n",
    "print(X_train.min())\n",
    "print(X_train.max())"
   ]
  },
  {
   "cell_type": "code",
   "execution_count": 10,
   "id": "942ae858",
   "metadata": {},
   "outputs": [],
   "source": [
    "#to bring value to 0-1 range\n",
    "X_train_scaled = X_train/255.0\n",
    "X_test_scaled = X_test/255.0"
   ]
  },
  {
   "cell_type": "code",
   "execution_count": 11,
   "id": "1d71f6b3",
   "metadata": {},
   "outputs": [
    {
     "name": "stdout",
     "output_type": "stream",
     "text": [
      "0.0\n",
      "1.0\n"
     ]
    }
   ],
   "source": [
    "print(X_train_scaled.min())\n",
    "print(X_train_scaled.max())"
   ]
  },
  {
   "cell_type": "code",
   "execution_count": 12,
   "id": "69f0f4ce",
   "metadata": {},
   "outputs": [
    {
     "data": {
      "text/plain": [
       "5"
      ]
     },
     "execution_count": 12,
     "metadata": {},
     "output_type": "execute_result"
    }
   ],
   "source": [
    "y_train[0]"
   ]
  },
  {
   "cell_type": "code",
   "execution_count": 13,
   "id": "062fe8d8",
   "metadata": {},
   "outputs": [
    {
     "name": "stdout",
     "output_type": "stream",
     "text": [
      "<class 'numpy.ndarray'>\n"
     ]
    },
    {
     "data": {
      "text/plain": [
       "(60000, 10)"
      ]
     },
     "execution_count": 13,
     "metadata": {},
     "output_type": "execute_result"
    }
   ],
   "source": [
    "y_train_onehot = utils.to_categorical(y_train,10)\n",
    "y_test_onehot = utils.to_categorical(y_test,10)\n",
    "\n",
    "print(type(y_train_onehot))\n",
    "y_train_onehot.shape"
   ]
  },
  {
   "cell_type": "code",
   "execution_count": 14,
   "id": "83464ca8",
   "metadata": {},
   "outputs": [
    {
     "data": {
      "text/plain": [
       "<matplotlib.image.AxesImage at 0x1d660df72e0>"
      ]
     },
     "execution_count": 14,
     "metadata": {},
     "output_type": "execute_result"
    },
    {
     "data": {
      "image/png": "[encoded data removed]",
      "text/plain": [
       "<Figure size 640x480 with 1 Axes>"
      ]
     },
     "metadata": {},
     "output_type": "display_data"
    }
   ],
   "source": [
    "single_image = X_train[500]\n",
    "plt.imshow(single_image,cmap='gray')"
   ]
  },
  {
   "cell_type": "code",
   "execution_count": 15,
   "id": "d90f3667",
   "metadata": {},
   "outputs": [
    {
     "data": {
      "text/plain": [
       "array([0., 0., 0., 1., 0., 0., 0., 0., 0., 0.], dtype=float32)"
      ]
     },
     "execution_count": 15,
     "metadata": {},
     "output_type": "execute_result"
    }
   ],
   "source": [
    "y_train_onehot[500]"
   ]
  },
  {
   "cell_type": "code",
   "execution_count": 16,
   "id": "af82bf9b",
   "metadata": {},
   "outputs": [],
   "source": [
    "X_train_scaled = X_train_scaled.reshape(-1,28,28,1)\n",
    "X_test_scaled = X_test_scaled.reshape(-1,28,28,1)"
   ]
  },
  {
   "cell_type": "code",
   "execution_count": 74,
   "id": "0089e171",
   "metadata": {},
   "outputs": [],
   "source": [
    "#network model\n",
    "model = keras.Sequential()\n",
    "model.add(layers.Input(shape=(28,28,1)))\n",
    "model.add(layers.Conv2D(filters=16,kernel_size=(3,3),activation='relu'))\n",
    "model.add(layers.Conv2D(filters=32,kernel_size=(3,3),activation='relu'))\n",
    "model.add(layers.MaxPool2D(pool_size=(2,2)))\n",
    "model.add(layers.Flatten())\n",
    "model.add(layers.Dense(32,activation='relu'))\n",
    "model.add(layers.Dense(10,activation='softmax'))"
   ]
  },
  {
   "cell_type": "code",
   "execution_count": 75,
   "id": "b77e0a60",
   "metadata": {},
   "outputs": [],
   "source": [
    "model.compile(loss='categorical_crossentropy',\n",
    "              optimizer='adam',\n",
    "              metrics='accuracy')"
   ]
  },
  {
   "cell_type": "code",
   "execution_count": 76,
   "id": "e42851a9",
   "metadata": {},
   "outputs": [
    {
     "name": "stdout",
     "output_type": "stream",
     "text": [
      "Epoch 1/5\n",
      "938/938 [==============================] - 37s 39ms/step - loss: 0.1865 - accuracy: 0.9449 - val_loss: 0.0607 - val_accuracy: 0.9804\n",
      "Epoch 2/5\n",
      "938/938 [==============================] - 39s 42ms/step - loss: 0.0594 - accuracy: 0.9819 - val_loss: 0.0544 - val_accuracy: 0.9830\n",
      "Epoch 3/5\n",
      "938/938 [==============================] - 39s 42ms/step - loss: 0.0409 - accuracy: 0.9874 - val_loss: 0.0454 - val_accuracy: 0.9843\n",
      "Epoch 4/5\n",
      "938/938 [==============================] - 39s 41ms/step - loss: 0.0298 - accuracy: 0.9905 - val_loss: 0.0419 - val_accuracy: 0.9865\n",
      "Epoch 5/5\n",
      "938/938 [==============================] - 39s 41ms/step - loss: 0.0244 - accuracy: 0.9926 - val_loss: 0.0398 - val_accuracy: 0.9873\n"
     ]
    },
    {
     "data": {
      "text/plain": [
       "<keras.src.callbacks.History at 0x1d60f8db610>"
      ]
     },
     "execution_count": 76,
     "metadata": {},
     "output_type": "execute_result"
    }
   ],
   "source": [
    "model.fit(X_train_scaled ,y_train_onehot, epochs=5,\n",
    "          batch_size=64, \n",
    "          validation_data=(X_test_scaled,y_test_onehot))"
   ]
  },
  {
   "cell_type": "code",
   "execution_count": 77,
   "id": "ef53da69",
   "metadata": {},
   "outputs": [
    {
     "data": {
      "text/html": [
       "<div>\n",
       "<style scoped>\n",
       "    .dataframe tbody tr th:only-of-type {\n",
       "        vertical-align: middle;\n",
       "    }\n",
       "\n",
       "    .dataframe tbody tr th {\n",
       "        vertical-align: top;\n",
       "    }\n",
       "\n",
       "    .dataframe thead th {\n",
       "        text-align: right;\n",
       "    }\n",
       "</style>\n",
       "<table border=\"1\" class=\"dataframe\">\n",
       "  <thead>\n",
       "    <tr style=\"text-align: right;\">\n",
       "      <th></th>\n",
       "      <th>loss</th>\n",
       "      <th>accuracy</th>\n",
       "      <th>val_loss</th>\n",
       "      <th>val_accuracy</th>\n",
       "    </tr>\n",
       "  </thead>\n",
       "  <tbody>\n",
       "    <tr>\n",
       "      <th>0</th>\n",
       "      <td>0.186501</td>\n",
       "      <td>0.944950</td>\n",
       "      <td>0.060655</td>\n",
       "      <td>0.9804</td>\n",
       "    </tr>\n",
       "    <tr>\n",
       "      <th>1</th>\n",
       "      <td>0.059425</td>\n",
       "      <td>0.981883</td>\n",
       "      <td>0.054428</td>\n",
       "      <td>0.9830</td>\n",
       "    </tr>\n",
       "    <tr>\n",
       "      <th>2</th>\n",
       "      <td>0.040912</td>\n",
       "      <td>0.987383</td>\n",
       "      <td>0.045437</td>\n",
       "      <td>0.9843</td>\n",
       "    </tr>\n",
       "    <tr>\n",
       "      <th>3</th>\n",
       "      <td>0.029766</td>\n",
       "      <td>0.990483</td>\n",
       "      <td>0.041934</td>\n",
       "      <td>0.9865</td>\n",
       "    </tr>\n",
       "    <tr>\n",
       "      <th>4</th>\n",
       "      <td>0.024398</td>\n",
       "      <td>0.992633</td>\n",
       "      <td>0.039811</td>\n",
       "      <td>0.9873</td>\n",
       "    </tr>\n",
       "  </tbody>\n",
       "</table>\n",
       "</div>"
      ],
      "text/plain": [
       "       loss  accuracy  val_loss  val_accuracy\n",
       "0  0.186501  0.944950  0.060655        0.9804\n",
       "1  0.059425  0.981883  0.054428        0.9830\n",
       "2  0.040912  0.987383  0.045437        0.9843\n",
       "3  0.029766  0.990483  0.041934        0.9865\n",
       "4  0.024398  0.992633  0.039811        0.9873"
      ]
     },
     "execution_count": 77,
     "metadata": {},
     "output_type": "execute_result"
    }
   ],
   "source": [
    "metrics = pd.DataFrame(model.history.history)\n",
    "metrics.head()"
   ]
  },
  {
   "cell_type": "code",
   "execution_count": 78,
   "id": "ca77eea1",
   "metadata": {},
   "outputs": [
    {
     "data": {
      "text/plain": [
       "<AxesSubplot:>"
      ]
     },
     "execution_count": 78,
     "metadata": {},
     "output_type": "execute_result"
    },
    {
     "data": {
      "image/png": "[encoded data removed]",
      "text/plain": [
       "<Figure size 640x480 with 1 Axes>"
      ]
     },
     "metadata": {},
     "output_type": "display_data"
    }
   ],
   "source": [
    "metrics[['accuracy','val_accuracy']].plot()"
   ]
  },
  {
   "cell_type": "code",
   "execution_count": 79,
   "id": "4efc518b",
   "metadata": {},
   "outputs": [
    {
     "data": {
      "text/plain": [
       "<AxesSubplot:>"
      ]
     },
     "execution_count": 79,
     "metadata": {},
     "output_type": "execute_result"
    },
    {
     "data": {
      "image/png": "[encoded data removed]",
      "text/plain": [
       "<Figure size 640x480 with 1 Axes>"
      ]
     },
     "metadata": {},
     "output_type": "display_data"
    }
   ],
   "source": [
    "metrics[['loss','val_loss']].plot()"
   ]
  },
  {
   "cell_type": "code",
   "execution_count": 80,
   "id": "037e17fe",
   "metadata": {},
   "outputs": [
    {
     "name": "stdout",
     "output_type": "stream",
     "text": [
      "313/313 [==============================] - 2s 5ms/step\n",
      "[[ 975    0    0    1    0    1    2    0    1    0]\n",
      " [   0 1130    1    2    0    0    2    0    0    0]\n",
      " [   1    2 1019    1    0    0    0    4    4    1]\n",
      " [   0    0    2 1005    0    2    0    1    0    0]\n",
      " [   0    1    2    0  971    0    1    0    2    5]\n",
      " [   2    1    1    8    0  868   11    0    1    0]\n",
      " [   2    1    0    0    2    1  952    0    0    0]\n",
      " [   0    3    8    1    0    1    0 1012    2    1]\n",
      " [   1    0    4    1    1    0    4    5  952    6]\n",
      " [   0    2    2    4    6    2    0    2    2  989]]\n"
     ]
    }
   ],
   "source": [
    "x_test_predictions = np.argmax(model.predict(X_test_scaled), axis=1)\n",
    "print(confusion_matrix(y_test,x_test_predictions))"
   ]
  },
  {
   "cell_type": "code",
   "execution_count": 81,
   "id": "5375a863",
   "metadata": {},
   "outputs": [
    {
     "name": "stdout",
     "output_type": "stream",
     "text": [
      "              precision    recall  f1-score   support\n",
      "\n",
      "           0       0.99      0.99      0.99       980\n",
      "           1       0.99      1.00      0.99      1135\n",
      "           2       0.98      0.99      0.98      1032\n",
      "           3       0.98      1.00      0.99      1010\n",
      "           4       0.99      0.99      0.99       982\n",
      "           5       0.99      0.97      0.98       892\n",
      "           6       0.98      0.99      0.99       958\n",
      "           7       0.99      0.98      0.99      1028\n",
      "           8       0.99      0.98      0.98       974\n",
      "           9       0.99      0.98      0.98      1009\n",
      "\n",
      "    accuracy                           0.99     10000\n",
      "   macro avg       0.99      0.99      0.99     10000\n",
      "weighted avg       0.99      0.99      0.99     10000\n",
      "\n"
     ]
    }
   ],
   "source": [
    "print(classification_report(y_test,x_test_predictions))"
   ]
  },
  {
   "cell_type": "markdown",
   "id": "8fc34b14",
   "metadata": {},
   "source": [
    "### Prediction for single input"
   ]
  },
  {
   "cell_type": "code",
   "execution_count": 82,
   "id": "f43f874f",
   "metadata": {},
   "outputs": [
    {
     "data": {
      "text/plain": [
       "True"
      ]
     },
     "execution_count": 82,
     "metadata": {},
     "output_type": "execute_result"
    }
   ],
   "source": [
    "import cv2\n",
    "inp = cv2.imread('numeg.PNG')\n",
    "ret,inv =cv2.threshold(inp,86,255,cv2.THRESH_BINARY_INV)\n",
    "cv2.imwrite('numeg1.PNG',inv)"
   ]
  },
  {
   "cell_type": "code",
   "execution_count": 83,
   "id": "c3b63b48",
   "metadata": {},
   "outputs": [
    {
     "data": {
      "text/plain": [
       "numpy.ndarray"
      ]
     },
     "execution_count": 83,
     "metadata": {},
     "output_type": "execute_result"
    }
   ],
   "source": [
    "img = image.load_img('numeg.PNG')\n",
    "type(inv)"
   ]
  },
  {
   "cell_type": "code",
   "execution_count": 84,
   "id": "99c47993",
   "metadata": {},
   "outputs": [],
   "source": [
    "img_tensor = tf.convert_to_tensor(np.asarray(img))\n",
    "img_28 = tf.image.resize(img_tensor,(28,28))\n",
    "img_28_gray = tf.image.rgb_to_grayscale(img_28)\n",
    "img_28_gray_scaled = img_28_gray.numpy()/255.0"
   ]
  },
  {
   "cell_type": "code",
   "execution_count": 85,
   "id": "95009abf",
   "metadata": {},
   "outputs": [
    {
     "name": "stdout",
     "output_type": "stream",
     "text": [
      "1/1 [==============================] - 0s 21ms/step\n",
      "[2]\n"
     ]
    }
   ],
   "source": [
    "x_single_prediction = np.argmax(\n",
    "    model.predict(img_28_gray_scaled.reshape(1,28,28,1)),\n",
    "     axis=1)\n",
    "print(x_single_prediction)"
   ]
  },
  {
   "cell_type": "code",
   "execution_count": 86,
   "id": "d6b1dcb2",
   "metadata": {},
   "outputs": [
    {
     "data": {
      "text/plain": [
       "<matplotlib.image.AxesImage at 0x1d613d2b940>"
      ]
     },
     "execution_count": 86,
     "metadata": {},
     "output_type": "execute_result"
    },
    {
     "data": {
      "image/png": "[encoded data removed]",
      "text/plain": [
       "<Figure size 640x480 with 1 Axes>"
      ]
     },
     "metadata": {},
     "output_type": "display_data"
    }
   ],
   "source": [
    "plt.imshow(img_28_gray_scaled.reshape(28,28),cmap='gray')"
   ]
  },
  {
   "cell_type": "code",
   "execution_count": 87,
   "id": "707acea3",
   "metadata": {},
   "outputs": [],
   "source": [
    "img_28_gray_inverted = 255.0-img_28_gray\n",
    "img_28_gray_inverted_scaled = img_28_gray_inverted.numpy()/255.0"
   ]
  },
  {
   "cell_type": "code",
   "execution_count": 88,
   "id": "7bf10657",
   "metadata": {},
   "outputs": [
    {
     "name": "stdout",
     "output_type": "stream",
     "text": [
      "1/1 [==============================] - 0s 18ms/step\n",
      "[3]\n"
     ]
    }
   ],
   "source": [
    "x_single_prediction = np.argmax(\n",
    "    model.predict(img_28_gray_inverted_scaled.reshape(1,28,28,1)),\n",
    "     axis=1)\n",
    "print(x_single_prediction)"
   ]
  },
  {
   "cell_type": "code",
   "execution_count": null,
   "id": "e89c554c",
   "metadata": {},
   "outputs": [],
   "source": []
  },
  {
   "cell_type": "code",
   "execution_count": 89,
   "id": "b9834fbd",
   "metadata": {},
   "outputs": [
    {
     "data": {
      "text/plain": [
       "numpy.ndarray"
      ]
     },
     "execution_count": 89,
     "metadata": {},
     "output_type": "execute_result"
    }
   ],
   "source": [
    "img1 = image.load_img('numeg2.PNG')\n",
    "type(inv)"
   ]
  },
  {
   "cell_type": "code",
   "execution_count": 90,
   "id": "b2803624",
   "metadata": {},
   "outputs": [],
   "source": [
    "img1_tensor = tf.convert_to_tensor(np.asarray(img1))\n",
    "img1_28 = tf.image.resize(img1_tensor,(28,28))\n",
    "img1_28_gray = tf.image.rgb_to_grayscale(img1_28)\n",
    "img1_28_gray_scaled = img1_28_gray.numpy()/255.0"
   ]
  },
  {
   "cell_type": "code",
   "execution_count": 91,
   "id": "2ed1a68f",
   "metadata": {},
   "outputs": [
    {
     "name": "stdout",
     "output_type": "stream",
     "text": [
      "1/1 [==============================] - 0s 18ms/step\n",
      "[5]\n"
     ]
    }
   ],
   "source": [
    "x_single_prediction = np.argmax(\n",
    "    model.predict(img1_28_gray_scaled.reshape(1,28,28,1)),\n",
    "     axis=1)\n",
    "print(x_single_prediction)"
   ]
  },
  {
   "cell_type": "code",
   "execution_count": 92,
   "id": "50b494dc",
   "metadata": {},
   "outputs": [],
   "source": [
    "img1_28_gray_inverted = 255.0-img1_28_gray\n",
    "img1_28_gray_inverted_scaled = img1_28_gray_inverted.numpy()/255.0"
   ]
  },
  {
   "cell_type": "code",
   "execution_count": 93,
   "id": "17cf3e8d",
   "metadata": {},
   "outputs": [
    {
     "name": "stdout",
     "output_type": "stream",
     "text": [
      "1/1 [==============================] - 0s 20ms/step\n",
      "[5]\n"
     ]
    }
   ],
   "source": [
    "x_single_prediction = np.argmax(\n",
    "    model.predict(img1_28_gray_inverted_scaled.reshape(1,28,28,1)),\n",
    "     axis=1)\n",
    "print(x_single_prediction)"
   ]
  },
  {
   "cell_type": "code",
   "execution_count": null,
   "id": "c3b75e65",
   "metadata": {},
   "outputs": [],
   "source": []
  }
 ],
 "metadata": {
  "kernelspec": {
   "display_name": "Python 3 (ipykernel)",
   "language": "python",
   "name": "python3"
  },
  "language_info": {
   "codemirror_mode": {
    "name": "ipython",
    "version": 3
   },
   "file_extension": ".py",
   "mimetype": "text/x-python",
   "name": "python",
   "nbconvert_exporter": "python",
   "pygments_lexer": "ipython3",
   "version": "3.9.13"
  }
 },
 "nbformat": 4,
 "nbformat_minor": 5
}
